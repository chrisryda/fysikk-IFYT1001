{
 "cells": [
  {
   "attachments": {},
   "cell_type": "markdown",
   "metadata": {},
   "source": [
    "# O1 Rep"
   ]
  },
  {
   "attachments": {},
   "cell_type": "markdown",
   "metadata": {},
   "source": [
    "## Oppgave 4"
   ]
  },
  {
   "attachments": {},
   "cell_type": "markdown",
   "metadata": {},
   "source": [
    "### a)"
   ]
  },
  {
   "cell_type": "code",
   "execution_count": 7,
   "metadata": {},
   "outputs": [
    {
     "name": "stdout",
     "output_type": "stream",
     "text": [
      "The diver is at y=0 at t=1.355 s\n",
      "Start-speed needed to travel 1.75 m in x-direction = 1.292\n",
      "The diver should therefore have a start-speed of about 1.30 m/s\n"
     ]
    }
   ],
   "source": [
    "import numpy as np\n",
    "import scipy.optimize as opt\n",
    "\n",
    "def a(t):\n",
    "    g = -9.81\n",
    "    return np.array([0,g,0])\n",
    "\n",
    "def v(t,v0):\n",
    "    return v0+a(t)*t\n",
    "\n",
    "def r(t,r0,v0):\n",
    "    return r0+v0*t+0.5*a(t)*t**2\n",
    "\n",
    "# Returns the y-component of the position\n",
    "def r_y(t):\n",
    "    temp = r(t,r0,v0)\n",
    "    return temp[1]\n",
    "\n",
    "r0 = np.array([0,9,0])\n",
    "v0 = np.array([0,0,0])\n",
    "\n",
    "# When does the diver hit y = 0\n",
    "solve1 = opt.fsolve(r_y, 1, xtol=1.0e-5)\n",
    "ground_timestamp = solve1[0]\n",
    "print(f\"The diver is at y=0 at t={ground_timestamp:5.3f} s\")\n",
    "\n",
    "ground_pos = np.array((1.75, 0, 0))\n",
    "needed_vx = ground_pos[0]/ground_timestamp\n",
    "print(f\"Start-speed needed to travel 1.75 m in x-direction = {needed_vx:5.3f}\")\n",
    "print(\"The diver should therefore have a start-speed of about 1.30 m/s\")"
   ]
  },
  {
   "attachments": {},
   "cell_type": "markdown",
   "metadata": {},
   "source": [
    "### b)"
   ]
  },
  {
   "cell_type": "code",
   "execution_count": 8,
   "metadata": {},
   "outputs": [
    {
     "name": "stdout",
     "output_type": "stream",
     "text": [
      "The cannonball is at y=0 at t=0.404 s\n"
     ]
    }
   ],
   "source": [
    "r0 = np.array([0, 0.8, 0])\n",
    "v0 = np.array([100, 0, 0])\n",
    "\n",
    "#When does the cannonball hit y=0\n",
    "solve1 = opt.fsolve(r_y, 1, xtol=1.0e-5)\n",
    "ground_timestamp = solve1[0]\n",
    "print(f\"The cannonball is at y=0 at t={ground_timestamp:5.3f} s\")"
   ]
  },
  {
   "attachments": {},
   "cell_type": "markdown",
   "metadata": {},
   "source": [
    "### c)"
   ]
  },
  {
   "cell_type": "code",
   "execution_count": 9,
   "metadata": {},
   "outputs": [
    {
     "name": "stdout",
     "output_type": "stream",
     "text": [
      "A cannonball with alpha=10 hits the ground after 0.354 s\n",
      "A cannonball with alpha=20 hits the ground after 0.697 s\n",
      "A cannonball with alpha=30 hits the ground after 1.019 s\n",
      "A cannonball with alpha=40 hits the ground after 1.310 s\n",
      "A cannonball with alpha=50 hits the ground after 1.562 s\n",
      "A cannonball with alpha=60 hits the ground after 1.766 s\n",
      "A cannonball with alpha=70 hits the ground after 1.916 s\n",
      "A cannonball with alpha=80 hits the ground after 2.008 s\n",
      "A cannonball with alpha=90 hits the ground after 2.039 s\n"
     ]
    }
   ],
   "source": [
    "velocity_start = 10.0\n",
    "r0=np.array([0,0,0])\n",
    "\n",
    "for i in range(10, 100, 10):\n",
    "    alpha=np.deg2rad(i)\n",
    "    v0=np.array([velocity_start*np.cos(alpha),velocity_start*np.sin(alpha),0])\n",
    "    solve1 = opt.fsolve(r_y, 2, xtol=1.0e-5)\n",
    "    ground_timestamp = solve1[0]\n",
    "    print(f\"A cannonball with alpha={i} hits the ground after {ground_timestamp:5.3f} s\")"
   ]
  },
  {
   "attachments": {},
   "cell_type": "markdown",
   "metadata": {},
   "source": [
    "### d)"
   ]
  },
  {
   "cell_type": "code",
   "execution_count": 12,
   "metadata": {},
   "outputs": [
    {
     "name": "stdout",
     "output_type": "stream",
     "text": [
      "Alpha needs to be 67.610 degrees\n",
      "Takes 1.040 s\n"
     ]
    }
   ],
   "source": [
    "velocity_start = 5.3\n",
    "ay = -9.81\n",
    "startpos_x = -2.1\n",
    "startpos_y = 0.21\n",
    "\n",
    "def func(x):\n",
    "    rad = x[0]\n",
    "    t = x[1]\n",
    "    return [velocity_start*np.cos(rad)*t + startpos_x,\n",
    "            velocity_start*np.sin(rad)*t + 0.5*ay*t**2 + startpos_y]\n",
    "\n",
    "root = opt.fsolve(func, [1, 1])\n",
    "print(f\"Alpha needs to be {np.rad2deg(root[0]):5.3f} degrees\")\n",
    "print(f\"Takes {root[1]:5.3f} s\")"
   ]
  }
 ],
 "metadata": {
  "kernelspec": {
   "display_name": "Python 3",
   "language": "python",
   "name": "python3"
  },
  "language_info": {
   "codemirror_mode": {
    "name": "ipython",
    "version": 3
   },
   "file_extension": ".py",
   "mimetype": "text/x-python",
   "name": "python",
   "nbconvert_exporter": "python",
   "pygments_lexer": "ipython3",
   "version": "3.10.10"
  },
  "orig_nbformat": 4
 },
 "nbformat": 4,
 "nbformat_minor": 2
}
