{
 "cells": [
  {
   "attachments": {},
   "cell_type": "markdown",
   "metadata": {},
   "source": [
    "## Oppgave 6"
   ]
  },
  {
   "cell_type": "code",
   "execution_count": null,
   "metadata": {},
   "outputs": [],
   "source": [
    "import numpy as np\n",
    "import matplotlib.pyplot as plt\n",
    "from matplotlib.patches import Circle\n",
    "from scipy.integrate import ode as ode\n",
    "\n",
    "# klasse som inneholder all informasjon om en punktladning. \n",
    "# objektet vet hvordan det regner ut feltet fra seg selv i en gitt koordinat\n",
    "class Ladning:\n",
    "    def __init__(self,ladning,posisjon,navn=\"Q\",stille=True): # konstruktør\n",
    "        self.ladning=ladning\n",
    "        self.posisjon=posisjon\n",
    "        self.navn=navn\n",
    "        self._k_=8.988e9   # konstant 1/4\\pi \\epsilon_0\n",
    "        self.stille=stille # objektet dumper informasjon om utregningene\n",
    "        self.r=0.01 # hvor nært er nært?\n",
    "    def E_felt(self,koordinat):\n",
    "        r=np.linalg.norm(self.posisjon-koordinat)       # Avstand mellom kilde og feltpunkt. \n",
    "        E=self._k_*self.ladning/r**2                    # Størrelsen på det elektriske feltet. \n",
    "        rhat=(koordinat-self.posisjon)/r                # Enhetsvektoren langs \\vec{r}\n",
    "        felt=E*rhat                                     # Det elektriske feltet gitt \n",
    "        if self.stille==False:\n",
    "            print('Beregning av elektrisk felt fra ladning '+self.navn)\n",
    "            print('----------------------------------------')\n",
    "            print(f'Avstand fra ladning til feltpunkt r={r:5.3f}')        \n",
    "            print(f'Størrelsen på det elektriske feltet E={E:5.3e}')\n",
    "            print(f'Enhetsvektoren fra kilde til feltpunkt rhat=[{rhat[0]:5.3f},{rhat[1]:5.3f},{rhat[2]:5.3f}]')\n",
    "            print(f'E=[{felt[0]:5.3e},{felt[1]:5.3e},{felt[2]:5.3e}]')\n",
    "        return felt\n",
    "    def potensial(self,koordinat): # det elektriske potensialet i en gitt koordinat!\n",
    "        r=np.linalg.norm(self.posisjon-koordinat)\n",
    "        v=self._k_*self.ladning/r\n",
    "        if self.stille==False:\n",
    "            print('Beregning av elektrisk potensial fra ladning '+self.navn)\n",
    "            print(f'V={v:5.3e} Volt')\n",
    "        return v\n",
    "\n",
    "#  Objekt som holder på en samling av punktldaninger\n",
    "class Ladninger():\n",
    "    def __init__(self):\n",
    "        self.ladninger=[] # Liste med ladninger\n",
    "        \n",
    "    def legg_til(self,ladning,stille=True):\n",
    "        ladning.stille=stille # sørger for at alle nå er stille i samlingen \n",
    "        self.ladninger.append(ladning) #legger ladningen inn i lista\n",
    "    # Regner ut det totalet feltet fra alle ladningene\n",
    "    def E_felt(self,p):\n",
    "        E=np.array([0,0,0])\n",
    "        for L in self.ladninger:\n",
    "            E=E+L.E_felt(p)\n",
    "        return E\n",
    "    def V(self,p):\n",
    "        V=0\n",
    "        for L in self.ladninger:\n",
    "            V=V+L.potensial(p)\n",
    "        return V"
   ]
  },
  {
   "cell_type": "code",
   "execution_count": null,
   "metadata": {},
   "outputs": [],
   "source": [
    "# Bruker objektet Ladning tre ganger\n",
    "Q1=Ladning(2.0e-6,np.array([0,0.3,0]),\"Q1\",stille=False)        \n",
    "Q2=Ladning(2.0e-6,np.array([0,-0.3,0]),\"Q2\",stille=False)        \n",
    "Q3=Ladning(4.0e-6,np.array([0.4,0,0]),\"Q3\",stille=False)        \n",
    "# Ønsker å finne feltet der Q3 ligger\n",
    "p3=Q3.posisjon\n",
    "E1=Q1.E_felt(p3)  # felt fra ladning Q1"
   ]
  },
  {
   "cell_type": "code",
   "execution_count": null,
   "metadata": {},
   "outputs": [],
   "source": [
    "E2=Q2.E_felt(p3)"
   ]
  },
  {
   "cell_type": "code",
   "execution_count": null,
   "metadata": {},
   "outputs": [],
   "source": [
    "ET=E1+E2\n",
    "print(f'E=[{ET[0]:5.3e},{ET[1]:5.3e},{ET[2]:5.3e}]')"
   ]
  },
  {
   "cell_type": "code",
   "execution_count": null,
   "metadata": {},
   "outputs": [],
   "source": [
    "F=Q3.ladning*ET\n",
    "print(f'Krafen på Q3, F=[{F[0]:5.3e},{F[1]:5.3e},{F[2]:5.3e}] N' )"
   ]
  },
  {
   "cell_type": "code",
   "execution_count": null,
   "metadata": {},
   "outputs": [],
   "source": [
    "# Vi kan regne ut bidrag fra hver av ladningene\n",
    "F_1=Q1.E_felt(p3)*Q3.ladning\n",
    "F_2=Q2.E_felt(p3)*Q3.ladning\n",
    "print(f'F_1=[{F_1[0]:5.3e},{F_1[1]:5.3e},{F_1[2]:5.3e}] N' )\n",
    "print(f'F_2=[{F_2[0]:5.3e},{F_2[1]:5.3e},{F_2[2]:5.3e}] N' )"
   ]
  },
  {
   "cell_type": "code",
   "execution_count": null,
   "metadata": {},
   "outputs": [],
   "source": [
    "import matplotlib.pyplot as plt\n",
    "from matplotlib.patches import Circle\n",
    "\n",
    "# Grid med x, y punkter\n",
    "nx, ny = 64, 64\n",
    "x = np.linspace(-0.3, 0.8, nx)\n",
    "y = np.linspace(-0.5, 0.5, ny)\n",
    "X, Y = np.meshgrid(x, y)\n",
    "\n",
    "Q1=Ladning(2e-6,np.array([0,0.3,0]),\"Q1\",stille=True)\n",
    "Q2=Ladning(4e-6,np.array([0.4,0,0]),\"Q2\",stille=True)\n",
    "Q3=Ladning(2e-6,np.array([0,-0.3,0]),\"Q3\",stille=True)\n",
    "\n",
    "samling=Ladninger()\n",
    "samling.legg_til(Q1)\n",
    "samling.legg_til(Q2)\n",
    "samling.legg_til(Q3)\n",
    "\n",
    "Ex=np.zeros_like(X)\n",
    "Ey=np.zeros_like(X)\n",
    "i=0\n",
    "for i in range(nx):\n",
    "    for j in range(ny):    \n",
    "        p=np.array([X[i][j],Y[i][j],0]) # koordinat til hvert feltpunkt.\n",
    "        E=samling.E_felt(p)# felt i punktet\n",
    "        Ex[i][j]=E[0]\n",
    "        Ey[i][j]=E[1]\n",
    "    \n",
    "# Sørger for en stor lesbar figur.\n",
    "fig=plt.figure(figsize = (10, 10))\n",
    "ax = fig.add_subplot(111)\n",
    "\n",
    "# Plotter streamlines med farger og\n",
    "color = 2 * np.log(np.hypot(Ex, Ey))\n",
    "ax.streamplot(x, y, Ex, Ey, color=color, linewidth=1, cmap=plt.cm.inferno,density=3)\n",
    "# plotter vektorfelt\n",
    "#plt.quiver(X, Y, Ex, Ey, pivot='middle', headwidth=4, headlength=6)  \n",
    "ax.add_artist(Circle(Q1.posisjon, 0.02, color='#aa0000')) #Markering av ladning Q1\n",
    "ax.add_artist(Circle(Q2.posisjon, 0.02, color='#aa0000')) #Markering av ladning Q2\n",
    "ax.add_artist(Circle(Q3.posisjon, 0.02, color='#aa0000')) #Markering av ladning Q3\n",
    "ax.add_artist(Circle(np.array([0,0,0]), 0.01, color='#000000')) #Svart prikk i punktet vi ser på \n",
    "plt.xlabel('x')\n",
    "plt.ylabel('y')"
   ]
  },
  {
   "attachments": {},
   "cell_type": "markdown",
   "metadata": {},
   "source": [
    "### Oppgave 1"
   ]
  },
  {
   "cell_type": "code",
   "execution_count": null,
   "metadata": {},
   "outputs": [],
   "source": [
    "#Hjelpefunksjon for å elektrisk felt i x-retning langs x-aksen \n",
    "def hjelper(x):\n",
    "    Q1=Ladning(4e-6,np.array([0,0,0]),\"Q1\",stille=True)\n",
    "    Q2=Ladning(1e-6,np.array([0.1,0,0]),\"Q2\",stille=True)\n",
    "    p=np.array([x,0,0])\n",
    "    E=Q1.E_felt(p)+Q2.E_felt(p)\n",
    "    return E[0] # returnerer bare x-komponent av feltet. Y kansellerer. "
   ]
  },
  {
   "cell_type": "code",
   "execution_count": null,
   "metadata": {},
   "outputs": [],
   "source": [
    "from scipy.optimize import fsolve\n",
    "losning = fsolve(hjelper, 0.05) # start å lete etter nullpunkt i x=0.5\n",
    "print(losning)"
   ]
  },
  {
   "attachments": {},
   "cell_type": "markdown",
   "metadata": {},
   "source": [
    "#### Lag en figur som viser det elektriske feltet rundt punktladningene."
   ]
  },
  {
   "cell_type": "code",
   "execution_count": null,
   "metadata": {},
   "outputs": [],
   "source": [
    "import matplotlib.pyplot as plt\n",
    "import numpy as np\n",
    "from matplotlib.patches import Circle\n",
    "\n",
    "# Grid med x, y punkter i området vi ønsker å se på feltet\n",
    "nx, ny = 64, 64\n",
    "x = np.linspace(-0.3, 0.3, nx)\n",
    "y = np.linspace(-0.3, 0.3, ny)\n",
    "X, Y = np.meshgrid(x, y)\n",
    "\n",
    "Q1=Ladning(4e-6,np.array([0,0,0]),\"Q1\",stille=True)\n",
    "Q2=Ladning(1e-6,np.array([0.1,0,0]),\"Q2\",stille=True)\n",
    "\n",
    "samling=Ladninger()\n",
    "samling.legg_til(Q1)\n",
    "samling.legg_til(Q2)\n",
    "\n",
    "Ex=np.zeros_like(X)\n",
    "Ey=np.zeros_like(X)\n",
    "i=0\n",
    "for i in range(nx):\n",
    "    for j in range(ny):    \n",
    "        p=np.array([X[i][j],Y[i][j],0]) # koordinat til hvert feltpunkt.\n",
    "        E=samling.E_felt(p)# felt i punktet\n",
    "        Ex[i][j]=E[0]\n",
    "        Ey[i][j]=E[1]\n",
    "    \n",
    "# Sørger for en stor lesbar figur.\n",
    "fig=plt.figure(figsize = (10, 10))\n",
    "ax = fig.add_subplot(111)\n",
    "\n",
    "# Plotter streamlines med farger og\n",
    "color = 2 * np.log(np.hypot(Ex, Ey))\n",
    "ax.streamplot(x, y, Ex, Ey, color=color, linewidth=1, cmap=plt.cm.inferno,density=3)\n",
    "# plotter vektorfelt\n",
    "#plt.quiver(X, Y, Ex, Ey, pivot='middle', headwidth=4, headlength=6)  \n",
    "ax.add_artist(Circle(Q1.posisjon, 0.02, color='#aa0000')) #Markering av ladning Q1\n",
    "ax.add_artist(Circle(Q2.posisjon, 0.02, color='#aa0000')) #Markering av ladning Q2\n",
    "ax.add_artist(Circle(np.array([0,0,0]), 0.01, color='#000000')) #Svart prikk i punktet vi ser på \n",
    "plt.xlabel('x')\n",
    "plt.ylabel('y')"
   ]
  },
  {
   "attachments": {},
   "cell_type": "markdown",
   "metadata": {},
   "source": [
    "#### Regn ut verdier elektriske potensialet for punkter langs x-aksen for x mellom -0.1 til 0.2 med steg på 0.001 i området mellom ladningene. Hvorfor er ikke potensialet mellom de to ladningene null noen steder?"
   ]
  },
  {
   "cell_type": "code",
   "execution_count": null,
   "metadata": {},
   "outputs": [],
   "source": [
    "Q1=Ladning(4e-6,np.array([0,0,0]),\"Q1\",stille=True)\n",
    "Q2=Ladning(1e-6,np.array([0.1,0,0]),\"Q2\",stille=True)\n",
    "samling=Ladninger()\n",
    "samling.legg_til(Q1)\n",
    "samling.legg_til(Q2)\n",
    "\n",
    "v=[]\n",
    "xs=[]\n",
    "for x in np.arange(-0.1,0.2,0.001):\n",
    "    p=np.array([x,0,0])\n",
    "    v.append(samling.V(p))\n",
    "    xs.append(x)\n",
    "\n",
    "fig=plt.figure(figsize = (10, 10))\n",
    "plt.plot(xs,v)\n",
    "plt.xlabel('x')\n",
    "plt.ylabel('V(x)')\n",
    "plt.xlim([-0.1,0.2])\n",
    "plt.ylim([0,0.8e7])"
   ]
  },
  {
   "attachments": {},
   "cell_type": "markdown",
   "metadata": {},
   "source": [
    "##### Det elektriske potensialet mellom de to ladningen V_tot = V_q1 + Vq2. For hver av ladningene er = kQ/r og aldri 0, samt at begge ladningene er postive - vi summerer altså sammen to postive tall som ikke er null, altså vil V_tot aldri være null. "
   ]
  },
  {
   "attachments": {},
   "cell_type": "markdown",
   "metadata": {},
   "source": [
    "### Hva er det elektriske potensialet i punktet du fant i oppgave 1? Er dette logisk?"
   ]
  },
  {
   "attachments": {},
   "cell_type": "markdown",
   "metadata": {},
   "source": [
    "#### Jeg klarer ikke skjønne hva denne oppgaven ber om - jeg har funnet potensialet for punktet mellom x = -0.1 og x = 0.2, og synes plotet virker logisk."
   ]
  }
 ],
 "metadata": {
  "language_info": {
   "name": "python"
  },
  "orig_nbformat": 4
 },
 "nbformat": 4,
 "nbformat_minor": 2
}
