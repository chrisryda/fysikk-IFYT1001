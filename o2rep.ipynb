{
 "cells": [
  {
   "attachments": {},
   "cell_type": "markdown",
   "metadata": {},
   "source": [
    "# Oving 2"
   ]
  },
  {
   "attachments": {},
   "cell_type": "markdown",
   "metadata": {},
   "source": [
    "## Oppgave 7"
   ]
  },
  {
   "cell_type": "code",
   "execution_count": 73,
   "metadata": {},
   "outputs": [],
   "source": [
    "import numpy as np\n",
    "\n",
    "# Drag\n",
    "rho = 1.23 # kg/m**3 \n",
    "m = 70\n",
    "\n",
    "A_alfred = 0.17\n",
    "C_alfred = 0.7\n",
    "k_alfred = 0.5 * C_alfred * rho * A_alfred\n",
    "\n",
    "A_bjarne = 1\n",
    "C_bjarne = 1\n",
    "k_bjarne = 0.5 * C_bjarne * rho * A_bjarne\n",
    "\n",
    "\n",
    "def dXdt(X,t,k,m):\n",
    "    g = 9.81\n",
    "    x, y , vx, vy = X\n",
    "    vvec = np.array([vx,vy])\n",
    "    vlen = np.linalg.norm(vvec)\n",
    "    drag = -k*vlen*vvec\n",
    "    dxdt = vx\n",
    "    dydt = vy\n",
    "    dvxdt = drag[0]/m\n",
    "    dvydt = drag[1]/m-g\n",
    "    return np.array([dxdt,dydt,dvxdt,dvydt])\n"
   ]
  },
  {
   "cell_type": "code",
   "execution_count": 74,
   "metadata": {},
   "outputs": [],
   "source": [
    "def euler(k):\n",
    "    t0 = 0.0\n",
    "    x0 = 0\n",
    "    y0 = 3500\n",
    "    dt = 0.001\n",
    "\n",
    "    v0_x = 0\n",
    "    v0_y = 0\n",
    "    X0 = np.array([x0,y0,v0_x,v0_y])\n",
    "\n",
    "    t_list = [t0] # time data\n",
    "    x_list = [x0] # x-coord data\n",
    "    y_list = [y0] # y-coord data\n",
    "    vx_list = [v0_x] # x-component of speed data\n",
    "    vy_list = [v0_y] # y-component of speed data\n",
    "\n",
    "    X = X0 \n",
    "    t = t0\n",
    "    y = y0\n",
    "    while y > 0:\n",
    "        Xn = X + dt * dXdt(X, t, k, m)\n",
    "        x = Xn[0]\n",
    "        y = Xn[1]\n",
    "        vx = Xn[2]\n",
    "        vy = Xn[3]\n",
    "        t_list.append(t)\n",
    "        x_list.append(x)\n",
    "        y_list.append(y)\n",
    "        vx_list.append(vx)\n",
    "        vy_list.append(vy)\n",
    "        t = t + dt\n",
    "        X = Xn\n",
    "\n",
    "    return x, y, vx, vy, t"
   ]
  },
  {
   "attachments": {},
   "cell_type": "markdown",
   "metadata": {},
   "source": [
    "### b)"
   ]
  },
  {
   "cell_type": "code",
   "execution_count": 75,
   "metadata": {},
   "outputs": [],
   "source": [
    "def euler_mod(k, v_limit):\n",
    "    t0 = 0.0\n",
    "    x0 = 0\n",
    "    y0 = 3500\n",
    "    dt = 0.001\n",
    "\n",
    "    v0_x = 0\n",
    "    v0_y = 0\n",
    "    X0 = np.array([x0,y0,v0_x,v0_y])\n",
    "\n",
    "    t_list = [t0] # time data\n",
    "    x_list = [x0] # x-coord data\n",
    "    y_list = [y0] # y-coord data\n",
    "    vx_list = [v0_x] # x-component of speed data\n",
    "    vy_list = [v0_y] # y-component of speed data\n",
    "\n",
    "    X = X0 \n",
    "    t = t0\n",
    "    y = y0\n",
    "    vy = 0\n",
    "    while vy >= v_limit:\n",
    "        Xn = X + dt * dXdt(X, t, k, m)\n",
    "        x = Xn[0]\n",
    "        y = Xn[1]\n",
    "        vx = Xn[2]\n",
    "        vy = Xn[3]\n",
    "        t_list.append(t)\n",
    "        x_list.append(x)\n",
    "        y_list.append(y)\n",
    "        vx_list.append(vx)\n",
    "        vy_list.append(vy)\n",
    "        t = t + dt\n",
    "        X = Xn\n",
    "\n",
    "    return x, y, vx, vy, t"
   ]
  },
  {
   "cell_type": "code",
   "execution_count": 76,
   "metadata": {},
   "outputs": [
    {
     "name": "stdout",
     "output_type": "stream",
     "text": [
      "Alfred reaches 98% of terminal velocity after 22.605 s\n",
      "Bjarne reaches 98% of terminal velocity after 7.825 s\n"
     ]
    }
   ],
   "source": [
    "_, _, _, v_terminal_alfred, _ = euler(k_alfred)\n",
    "_, _, _, v_terminal_bjarne, _ = euler(k_bjarne)\n",
    "\n",
    "_, y_alfred_mod, _, _, t_alfred_mod = euler_mod(k_alfred, v_terminal_alfred*0.98)\n",
    "_, y_bjarne_mod, _, _, t_bjarne_mod = euler_mod(k_bjarne, v_terminal_bjarne*0.98)\n",
    "\n",
    "print(f\"Alfred reaches 98% of terminal velocity after {t_alfred_mod:5.3f} s\")\n",
    "print(f\"Bjarne reaches 98% of terminal velocity after {t_bjarne_mod:5.3f} s\")"
   ]
  },
  {
   "attachments": {},
   "cell_type": "markdown",
   "metadata": {},
   "source": [
    "### c)"
   ]
  },
  {
   "cell_type": "code",
   "execution_count": 77,
   "metadata": {},
   "outputs": [
    {
     "name": "stdout",
     "output_type": "stream",
     "text": [
      "Alfred has fallen 1536.431 m when he reaches 98% of terminal velocity\n",
      "Bjarne has fallen 183.717 m when he reaches 98% of terminal velocity\n"
     ]
    }
   ],
   "source": [
    "print(f\"Alfred has fallen {3500-y_alfred_mod:5.3f} m when he reaches 98% of terminal velocity\")\n",
    "print(f\"Bjarne has fallen {3500-y_bjarne_mod:5.3f} m when he reaches 98% of terminal velocity\")"
   ]
  }
 ],
 "metadata": {
  "kernelspec": {
   "display_name": "Python 3",
   "language": "python",
   "name": "python3"
  },
  "language_info": {
   "codemirror_mode": {
    "name": "ipython",
    "version": 3
   },
   "file_extension": ".py",
   "mimetype": "text/x-python",
   "name": "python",
   "nbconvert_exporter": "python",
   "pygments_lexer": "ipython3",
   "version": "3.10.10"
  },
  "orig_nbformat": 4
 },
 "nbformat": 4,
 "nbformat_minor": 2
}
