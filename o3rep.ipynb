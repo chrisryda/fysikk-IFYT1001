{
 "cells": [
  {
   "attachments": {},
   "cell_type": "markdown",
   "metadata": {},
   "source": [
    "# Oving 3"
   ]
  },
  {
   "attachments": {},
   "cell_type": "markdown",
   "metadata": {},
   "source": [
    "## Oppgave 7"
   ]
  },
  {
   "attachments": {},
   "cell_type": "markdown",
   "metadata": {},
   "source": [
    "### a)"
   ]
  },
  {
   "cell_type": "code",
   "execution_count": 130,
   "metadata": {},
   "outputs": [
    {
     "name": "stdout",
     "output_type": "stream",
     "text": [
      "Work done by drag force at 80 km/h: -0.472 kWh\n",
      "Work done by drag force at 100 km/h: -0.737 kWh\n"
     ]
    }
   ],
   "source": [
    "import numpy as np\n",
    "import matplotlib.pyplot as plt\n",
    "import scipy.integrate as integrate\n",
    "\n",
    "rho = 1.23 \n",
    "C = 0.24\n",
    "A = 2.33\n",
    "m = 2250 \n",
    "def drag_force(v):\n",
    "    return 0.5*rho*A*C*v**2\n",
    "\n",
    "def joule_to_kWh(j):\n",
    "    return j*2.77810*(10**-7)\n",
    "\n",
    "d = 10_000\n",
    "w_80 = drag_force(80/3.6)*d*np.cos(np.deg2rad(180))\n",
    "w_100 = drag_force(100/3.6)*d*np.cos(np.deg2rad(180))\n",
    "print(f\"Work done by drag force at 80 km/h: {joule_to_kWh(w_80):3.3f} kWh\")\n",
    "print(f\"Work done by drag force at 100 km/h: {joule_to_kWh(w_100):3.3f} kWh\")"
   ]
  },
  {
   "attachments": {},
   "cell_type": "markdown",
   "metadata": {},
   "source": [
    "### b)"
   ]
  },
  {
   "cell_type": "code",
   "execution_count": 131,
   "metadata": {},
   "outputs": [
    {
     "data": {
      "image/png": "[encoded data removed]",
      "text/plain": [
       "<Figure size 500x500 with 1 Axes>"
      ]
     },
     "metadata": {},
     "output_type": "display_data"
    }
   ],
   "source": [
    "def v(t,vmax):\n",
    "    return 0.5*vmax*(np.sin((np.pi/10)*t-np.pi/2)+1)\n",
    "\n",
    "v_80_list = []\n",
    "v_100_list = []\n",
    "t_list = []\n",
    "for t in range(0, 11):\n",
    "    velocity_80 = v(t, (80/3.6))\n",
    "    velocity_100 = v(t, (100/3.6))\n",
    "    v_80_list.append(velocity_80)\n",
    "    v_100_list.append(velocity_100)\n",
    "    t_list.append(t)\n",
    "\n",
    "plt.figure(figsize = (5, 5))\n",
    "plt.plot(t_list,v_80_list,color=\"blue\")\n",
    "plt.plot(t_list,v_100_list,color=\"red\")\n",
    "plt.xlabel(\"Time (s)\")\n",
    "plt.ylabel(\"Velocity (m/s)\")\n",
    "plt.show()\n"
   ]
  },
  {
   "attachments": {},
   "cell_type": "markdown",
   "metadata": {},
   "source": [
    "### c)"
   ]
  },
  {
   "cell_type": "code",
   "execution_count": 132,
   "metadata": {},
   "outputs": [
    {
     "name": "stdout",
     "output_type": "stream",
     "text": [
      "The car accelerating up to 80 km/h drives 111.1 m in the first 10 seconds.\n",
      "The car accelerating up to 100 km/h drives 138.9 m in the first 10 seconds.\n"
     ]
    }
   ],
   "source": [
    "result_80, err = integrate.quad(v, 0, 10,args=80/3.6)\n",
    "result_100, err = integrate.quad(v, 0, 10,args=100/3.6)\n",
    "\n",
    "print(f\"The car accelerating up to 80 km/h drives {result_80:3.1f} m in the first 10 seconds.\")\n",
    "print(f\"The car accelerating up to 100 km/h drives {result_100:3.1f} m in the first 10 seconds.\")"
   ]
  },
  {
   "attachments": {},
   "cell_type": "markdown",
   "metadata": {},
   "source": [
    "### d)"
   ]
  },
  {
   "cell_type": "code",
   "execution_count": 133,
   "metadata": {},
   "outputs": [
    {
     "name": "stdout",
     "output_type": "stream",
     "text": [
      "Kinetic energy at 80 km/h: 0.154 kWh\n",
      "Kinetic energy at 100 km/h: 0.241 kWh\n"
     ]
    }
   ],
   "source": [
    "def ek(v):\n",
    "    return 0.5*m*v**2\n",
    "ek_80 = ek(80/3.6)\n",
    "ek_100 = ek(100/3.6)\n",
    "\n",
    "print(f\"Kinetic energy at 80 km/h: {joule_to_kWh(ek_80):3.3f} kWh\")\n",
    "print(f\"Kinetic energy at 100 km/h: {joule_to_kWh(ek_100):3.3f} kWh\")\n"
   ]
  },
  {
   "attachments": {},
   "cell_type": "markdown",
   "metadata": {},
   "source": [
    "### e)"
   ]
  },
  {
   "cell_type": "code",
   "execution_count": 134,
   "metadata": {},
   "outputs": [
    {
     "name": "stdout",
     "output_type": "stream",
     "text": [
      "Work done by drag force the first 10 seconds accelerating up to 80 km/h: -11793.8 J\n",
      "Work done by drag force the first 10 seconds accelerating up to 100 km/h: -23034.8 J\n"
     ]
    }
   ],
   "source": [
    "def drag_effect(t,vmax):\n",
    "    return 0.5*A*rho*C*v(t,vmax)**3\n",
    "\n",
    "result_80, err = integrate.quad(drag_effect, 0, 10,args=80/3.6)\n",
    "result_100, err = integrate.quad(drag_effect, 0, 10,args=100/3.6)\n",
    "\n",
    "print(f\"Work done by drag force the first 10 seconds accelerating up to 80 km/h: -{result_80:3.1f} J\")\n",
    "print(f\"Work done by drag force the first 10 seconds accelerating up to 100 km/h: -{result_100:3.1f} J\")"
   ]
  },
  {
   "attachments": {},
   "cell_type": "markdown",
   "metadata": {},
   "source": [
    "### g)"
   ]
  },
  {
   "cell_type": "code",
   "execution_count": 135,
   "metadata": {},
   "outputs": [
    {
     "name": "stdout",
     "output_type": "stream",
     "text": [
      "Work done by drag force at 80 km/h: -0.413 kWh\n",
      "Work done by drag force at 100 km/h: -0.645 kWh\n"
     ]
    }
   ],
   "source": [
    "# f) er allerede svart på i a)\n",
    "\n",
    "C = 0.21\n",
    "w_80 = drag_force(80/3.6)*d*np.cos(np.deg2rad(180))\n",
    "w_100 = drag_force(100/3.6)*d*np.cos(np.deg2rad(180))\n",
    "print(f\"Work done by drag force at 80 km/h: {joule_to_kWh(w_80):3.3f} kWh\")\n",
    "print(f\"Work done by drag force at 100 km/h: {joule_to_kWh(w_100):3.3f} kWh\")"
   ]
  }
 ],
 "metadata": {
  "kernelspec": {
   "display_name": "Python 3",
   "language": "python",
   "name": "python3"
  },
  "language_info": {
   "codemirror_mode": {
    "name": "ipython",
    "version": 3
   },
   "file_extension": ".py",
   "mimetype": "text/x-python",
   "name": "python",
   "nbconvert_exporter": "python",
   "pygments_lexer": "ipython3",
   "version": "3.10.10"
  },
  "orig_nbformat": 4
 },
 "nbformat": 4,
 "nbformat_minor": 2
}
