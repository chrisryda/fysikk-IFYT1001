{
 "cells": [
  {
   "attachments": {},
   "cell_type": "markdown",
   "metadata": {},
   "source": [
    "### Oppgave 4"
   ]
  },
  {
   "attachments": {},
   "cell_type": "markdown",
   "metadata": {},
   "source": [
    "##### a)"
   ]
  },
  {
   "cell_type": "code",
   "execution_count": 5,
   "metadata": {},
   "outputs": [
    {
     "name": "stdout",
     "output_type": "stream",
     "text": [
      "The diver is at y=0 at t=1.355 s\n",
      "Start-speed needed to travel 1.75 m in x-direction = 1.292\n",
      "The diver should therefore have a start-speed of about 1.30 m/s\n"
     ]
    }
   ],
   "source": [
    "import numpy as np\n",
    "import matplotlib.pyplot as plt\n",
    "import scipy.optimize as opt\n",
    "\n",
    "def a(t):\n",
    "    g=-9.81\n",
    "    return np.array([0,g,0])\n",
    "\n",
    "def v(t,v0):\n",
    "    return v0 + a(t)*t\n",
    "\n",
    "def r(t,r0,v0):\n",
    "    return r0 + v0*t + 0.5*a(t)*t**2\n",
    "\n",
    "# Returns the y-component of position\n",
    "def r_y(t):\n",
    "    temp = r(t,r0,v0)\n",
    "    return temp[1]\n",
    "\n",
    "r0 = np.array([0,9,0])\n",
    "v0 = np.array([0,0,0])\n",
    "\n",
    "# When does the diver hit y = 0\n",
    "solve1 = opt.fsolve(r_y,1,xtol=1.0e-5)\n",
    "ground_timestamp = solve1[0]\n",
    "print(f\"The diver is at y=0 at t={ground_timestamp:5.3f} s\")\n",
    "\n",
    "ground_pos = np.array((1.75, 0, 0))\n",
    "needed_vx = ground_pos[0]/ground_timestamp\n",
    "print(f\"Start-speed needed to travel 1.75 m in x-direction = {needed_vx:5.3f}\")\n",
    "print(\"The diver should therefore have a start-speed of about 1.30 m/s\")"
   ]
  },
  {
   "attachments": {},
   "cell_type": "markdown",
   "metadata": {},
   "source": [
    "##### b)"
   ]
  },
  {
   "cell_type": "code",
   "execution_count": 6,
   "metadata": {},
   "outputs": [
    {
     "name": "stdout",
     "output_type": "stream",
     "text": [
      "The cannon-ball hits the ground at t=0.404 s\n"
     ]
    }
   ],
   "source": [
    "r0 = np.array([0,0.8,0])\n",
    "v0 = np.array([100,0,0])\n",
    "\n",
    "# When does the cannon-ball hit y = 0\n",
    "solve1 = opt.fsolve(r_y,1,xtol=1.0e-5)\n",
    "ground_timestamp = solve1[0]\n",
    "print(f\"The cannon-ball hits the ground at t={ground_timestamp:5.3f} s\")"
   ]
  },
  {
   "attachments": {},
   "cell_type": "markdown",
   "metadata": {},
   "source": [
    "##### c)"
   ]
  },
  {
   "cell_type": "code",
   "execution_count": 7,
   "metadata": {},
   "outputs": [
    {
     "name": "stdout",
     "output_type": "stream",
     "text": [
      "The cannon-ball with alpha = 20 hits the ground at t=0.697 s\n",
      "The cannon-ball with alpha = 30 hits the ground at t=1.019 s\n",
      "The cannon-ball with alpha = 40 hits the ground at t=1.310 s\n",
      "The cannon-ball with alpha = 50 hits the ground at t=1.562 s\n",
      "The cannon-ball with alpha = 60 hits the ground at t=1.766 s\n",
      "The cannon-ball with alpha = 70 hits the ground at t=1.916 s\n",
      "The cannon-ball with alpha = 80 hits the ground at t=2.008 s\n"
     ]
    }
   ],
   "source": [
    "for i in range(20, 90, 10):\n",
    "    start_speed = 10.0\n",
    "    alpha=np.deg2rad(i) # vinkel omregnet til radianer\n",
    "    r0=np.array([0,0,0]) \n",
    "    v0=np.array([start_speed*np.cos(alpha),start_speed*np.sin(alpha),0])\n",
    "\n",
    "    # When does the cannon-ball hit y = 0\n",
    "    solve1 = opt.fsolve(r_y,1.8,xtol=1.0e-5)\n",
    "    ground_timestamp = solve1[0]\n",
    "    print(f\"The cannon-ball with alpha = {i} hits the ground at t={ground_timestamp:5.3f} s\")"
   ]
  },
  {
   "attachments": {},
   "cell_type": "markdown",
   "metadata": {},
   "source": [
    "###### Advarsel til meg selv: \n",
    "###### Tidligere skrev jeg solve1 med utgangspunkt (2. param) = 1, som gjorde at svaret for alpha = 80 ble 0.000. Grunnen til dette er at fsolve finner **nærmeste løsning** ut i fra utgangspunktet, som ved utgangspunkt = 1 ble 0 ved alpha = 80. "
   ]
  },
  {
   "attachments": {},
   "cell_type": "markdown",
   "metadata": {},
   "source": [
    "##### d)"
   ]
  },
  {
   "cell_type": "code",
   "execution_count": 8,
   "metadata": {},
   "outputs": [
    {
     "name": "stdout",
     "output_type": "stream",
     "text": [
      "Alpha needs to be 66.414 degrees\n"
     ]
    }
   ],
   "source": [
    "def func(x):\n",
    "    return [5.3*np.cos(x[0])*x[1] - 2.1,\n",
    "\n",
    "            5.3*np.sin(x[0])*x[1] + 0.5*-9.81*x[1]**2]\n",
    "\n",
    "root = opt.fsolve(func, [1, 1])\n",
    "\n",
    "print(f\"Alpha needs to be {np.rad2deg(root[0]):5.3f} degrees\")"
   ]
  }
 ],
 "metadata": {
  "kernelspec": {
   "display_name": "Python 3",
   "language": "python",
   "name": "python3"
  },
  "language_info": {
   "codemirror_mode": {
    "name": "ipython",
    "version": 3
   },
   "file_extension": ".py",
   "mimetype": "text/x-python",
   "name": "python",
   "nbconvert_exporter": "python",
   "pygments_lexer": "ipython3",
   "version": "3.10.8"
  },
  "orig_nbformat": 4,
  "vscode": {
   "interpreter": {
    "hash": "e7370f93d1d0cde622a1f8e1c04877d8463912d04d973331ad4851f04de6915a"
   }
  }
 },
 "nbformat": 4,
 "nbformat_minor": 2
}
